{
 "cells": [
  {
   "cell_type": "code",
   "execution_count": 1,
   "metadata": {},
   "outputs": [],
   "source": [
    "import numpy as np\n",
    "from itertools import combinations\n",
    "\n",
    "def load_dataset(file='big.txt'):\n",
    "    fh = open(file, 'r')\n",
    "    dataset = []\n",
    "    for i, line in enumerate(fh):\n",
    "        dataset.append([*line.strip()])\n",
    "\n",
    "    dataset = np.array(dataset)\n",
    "    galaxies = []\n",
    "    for r, row in enumerate(dataset):\n",
    "        for c, col in enumerate(row):\n",
    "            if col == \"#\":\n",
    "                galaxies.append([r, c])\n",
    "\n",
    "    expand_row = []     \n",
    "    expand_col = []     \n",
    "    for r, row in enumerate(dataset):\n",
    "        if len(set(row)) == 1:\n",
    "            expand_row.append(r)\n",
    "            \n",
    "    for col in range(dataset.shape[1]):\n",
    "        if len(set(dataset[:,col])) == 1:\n",
    "            expand_col.append(col)\n",
    "\n",
    "    return galaxies, expand_row, expand_col\n",
    "\n",
    "def printd(dataset):\n",
    "    for row in dataset:\n",
    "        print(\"\".join(row))\n",
    "\n",
    "def expansion(galaxies, expand_col, expand_row, rate):\n",
    "    for i in range(len(galaxies)):\n",
    "        galaxies[i][0] = galaxies[i][0] + sum([sum([galaxies[i][0] > item])*(rate-1) for item in expand_row])\n",
    "        galaxies[i][1] = galaxies[i][1] + sum([sum([galaxies[i][1] > item])*(rate-1) for item in expand_col])\n",
    "\n",
    "def manhattan(point1, point2):\n",
    "    return sum(abs(value1 - value2) for value1, value2 in zip(point1, point2))"
   ]
  },
  {
   "cell_type": "code",
   "execution_count": 2,
   "metadata": {},
   "outputs": [
    {
     "name": "stdout",
     "output_type": "stream",
     "text": [
      "Solution part 1: 9609130\n",
      "Solution part 2: 702152204842.0\n"
     ]
    }
   ],
   "source": [
    "############### Part 1:\n",
    "galaxies, expand_row, expand_col = load_dataset(\"big.txt\")\n",
    "expansion(galaxies, expand_col, expand_row, 2)\n",
    "\n",
    "solution = 0\n",
    "for x, y in combinations(range(len(galaxies)),2):\n",
    "    solution += manhattan(galaxies[x], galaxies[y])\n",
    "\n",
    "print(\"Solution part 1:\", solution)\n",
    "\n",
    "############### Part 2::\n",
    "galaxies, expand_row, expand_col = load_dataset(\"big.txt\")\n",
    "expansion(galaxies, expand_col, expand_row, 1e6)\n",
    "\n",
    "solution = 0\n",
    "for x, y in combinations(range(len(galaxies)),2):\n",
    "    solution += manhattan(galaxies[x], galaxies[y])\n",
    "\n",
    "print(\"Solution part 2:\", solution)"
   ]
  },
  {
   "cell_type": "code",
   "execution_count": null,
   "metadata": {},
   "outputs": [],
   "source": []
  }
 ],
 "metadata": {
  "kernelspec": {
   "display_name": "md_production",
   "language": "python",
   "name": "python3"
  },
  "language_info": {
   "codemirror_mode": {
    "name": "ipython",
    "version": 3
   },
   "file_extension": ".py",
   "mimetype": "text/x-python",
   "name": "python",
   "nbconvert_exporter": "python",
   "pygments_lexer": "ipython3",
   "version": "3.12.0"
  }
 },
 "nbformat": 4,
 "nbformat_minor": 2
}
