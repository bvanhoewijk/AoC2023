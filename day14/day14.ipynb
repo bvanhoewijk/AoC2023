{
 "cells": [
  {
   "cell_type": "code",
   "execution_count": 3,
   "metadata": {},
   "outputs": [],
   "source": [
    "import numpy as np\n",
    "def load_data(file=\"small.txt\"):\n",
    "    fh = open(file, \"r\")\n",
    "    dataset = [[*x.strip()] for x in fh.readlines()]\n",
    "    dataset = np.array(dataset)\n",
    "    return dataset"
   ]
  },
  {
   "cell_type": "code",
   "execution_count": 12,
   "metadata": {},
   "outputs": [],
   "source": [
    "dataset = load_data()"
   ]
  },
  {
   "cell_type": "code",
   "execution_count": 68,
   "metadata": {},
   "outputs": [],
   "source": [
    "\n",
    "def north(dataset):\n",
    "    for col in range(dataset.shape[1]):\n",
    "        d_row = 0\n",
    "        for row in range(dataset.shape[0]):\n",
    "            c = dataset[row, col]\n",
    "            if c == \".\":\n",
    "                # \".\" move up atleast one:\n",
    "                d_row += 1\n",
    "            elif c == \"#\":\n",
    "                # Nothing to move:\n",
    "                d_row = 0\n",
    "            elif c == \"O\":\n",
    "                # Move \"O\" by delta:\n",
    "                dataset[row, col] = \".\"\n",
    "                dataset[row - d_row, col] = \"O\"\n",
    "    return dataset\n",
    "\n",
    "def south(dataset):\n",
    "    for col in range(dataset.shape[1]):\n",
    "        d_row = 0\n",
    "        for row in reversed(range(dataset.shape[0])):\n",
    "            c = dataset[row, col]\n",
    "            if c == \".\":\n",
    "                # \".\" move up atleast one:\n",
    "                d_row += 1\n",
    "            elif c == \"#\":\n",
    "                # Nothing to move:\n",
    "                d_row = 0\n",
    "            elif c == \"O\":\n",
    "                # Move \"O\"\n",
    "                dataset[row, col] = \".\"\n",
    "                dataset[row + d_row, col] = \"O\"\n",
    "    return dataset\n",
    "\n",
    "def east(dataset):\n",
    "    for row in range(dataset.shape[0]):\n",
    "        d_col = 0\n",
    "        for col in reversed(range(dataset.shape[1])):\n",
    "            c = dataset[row, col]\n",
    "            if c == \".\":\n",
    "                # \".\" move up atleast one:\n",
    "                d_col += 1\n",
    "            elif c == \"#\":\n",
    "                # Nothing to move:\n",
    "                d_col = 0\n",
    "            elif c == \"O\":\n",
    "                # Move \"O\"\n",
    "                dataset[row, col] = \".\"\n",
    "                dataset[row, col+d_col] = \"O\"\n",
    "    return dataset\n",
    "\n",
    "def west(dataset):\n",
    "    for row in range(dataset.shape[0]):\n",
    "        d_col = 0\n",
    "        for col in range(dataset.shape[1]):\n",
    "            c = dataset[row, col]\n",
    "            if c == \".\":\n",
    "                # \".\" move up atleast one:\n",
    "                d_col += 1\n",
    "            elif c == \"#\":\n",
    "                # Nothing to move:\n",
    "                d_col = 0\n",
    "            elif c == \"O\":\n",
    "                # Move \"O\"\n",
    "                dataset[row, col] = \".\"\n",
    "                dataset[row, col-d_col] = \"O\"\n",
    "    return dataset\n"
   ]
  },
  {
   "cell_type": "code",
   "execution_count": 69,
   "metadata": {},
   "outputs": [
    {
     "name": "stdout",
     "output_type": "stream",
     "text": [
      "O....#....\n",
      "OOO.#....#\n",
      ".....##...\n",
      "OO.#OO....\n",
      "OO......#.\n",
      "O.#O...#.#\n",
      "O....#OO..\n",
      "O.........\n",
      "#....###..\n",
      "#OO..#....\n"
     ]
    }
   ],
   "source": [
    "dataset = load_data()\n",
    "dataset = west(dataset)\n",
    "\n",
    "for row in dataset:\n",
    "    print(\"\".join(row))"
   ]
  },
  {
   "cell_type": "code",
   "execution_count": 70,
   "metadata": {},
   "outputs": [],
   "source": [
    "import numpy as np\n",
    "def load_data(file=\"small.txt\"):\n",
    "    fh = open(file, \"r\")\n",
    "    dataset = [[*x.strip()] for x in fh.readlines()]\n",
    "    dataset = np.array(dataset)\n",
    "    return dataset\n",
    "\n",
    "def rotate(dataset):\n",
    "    dataset = north(dataset)\n",
    "    dataset = west(dataset)\n",
    "    dataset = south(dataset)\n",
    "    dataset = east(dataset)\n",
    "    return dataset\n",
    "\n",
    "def score(dataset):\n",
    "    score = 0\n",
    "    for r, row in enumerate(dataset):\n",
    "        for c, _ in enumerate(row):\n",
    "            if dataset[r, c] == \"O\":\n",
    "                score += dataset.shape[0] - r\n",
    "    return score"
   ]
  },
  {
   "cell_type": "code",
   "execution_count": 74,
   "metadata": {},
   "outputs": [
    {
     "name": "stdout",
     "output_type": "stream",
     "text": [
      "Only have to do 159 cycles.\n"
     ]
    },
    {
     "data": {
      "text/plain": [
       "105606"
      ]
     },
     "execution_count": 74,
     "metadata": {},
     "output_type": "execute_result"
    }
   ],
   "source": [
    "dataset = load_data(\"big.txt\")\n",
    "cache = dict()\n",
    "todo = 0\n",
    "TOTAL_CYCLES = 1000000000\n",
    "\n",
    "for cycle in range(TOTAL_CYCLES):\n",
    "    dataset = rotate(dataset)\n",
    "\n",
    "    # Need a key. Use tuple in this case:\n",
    "    key = tuple(tuple(x) for x in dataset)\n",
    "    if key in cache:\n",
    "        diff = cycle - cache[key]\n",
    "        todo = (TOTAL_CYCLES - cycle) % diff - 1\n",
    "        print(f\"Only have to do {cycle} cycles.\")\n",
    "        break\n",
    "    cache[key] = cycle\n",
    "\n",
    "for _ in range(todo):\n",
    "    dataset = rotate(dataset)\n",
    "score(dataset)"
   ]
  },
  {
   "cell_type": "markdown",
   "metadata": {},
   "source": [
    "- Only have to do 9 cycles. Running final set of 3 cycles...\n",
    "- Solution:  64"
   ]
  },
  {
   "cell_type": "markdown",
   "metadata": {},
   "source": [
    "- Only have to do 159 cycles. Running final set of 60 cycles...\n",
    "- Solution:  105606"
   ]
  },
  {
   "cell_type": "code",
   "execution_count": 32,
   "metadata": {},
   "outputs": [
    {
     "name": "stdout",
     "output_type": "stream",
     "text": [
      "5 64\n"
     ]
    }
   ],
   "source": [
    "for key in cache:\n",
    "    if cache[key] == (9 - 3 - 1):\n",
    "        print(cache[key], score(np.array(key)))"
   ]
  }
 ],
 "metadata": {
  "kernelspec": {
   "display_name": "md_production",
   "language": "python",
   "name": "python3"
  },
  "language_info": {
   "codemirror_mode": {
    "name": "ipython",
    "version": 3
   },
   "file_extension": ".py",
   "mimetype": "text/x-python",
   "name": "python",
   "nbconvert_exporter": "python",
   "pygments_lexer": "ipython3",
   "version": "3.12.0"
  }
 },
 "nbformat": 4,
 "nbformat_minor": 2
}
