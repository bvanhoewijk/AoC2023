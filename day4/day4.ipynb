{
 "cells": [
  {
   "cell_type": "markdown",
   "metadata": {},
   "source": [
    "# Part 1"
   ]
  },
  {
   "cell_type": "markdown",
   "metadata": {},
   "source": [
    "In the above example, card 1 has five winning numbers (41, 48, 83, 86, and 17) and eight numbers you have (83, 86, 6, 31, 17, 9, 48, and 53). Of the numbers you have, four of them (48, 83, 17, and 86) are winning numbers! That means card 1 is worth 8 points (1 for the first match, then doubled three times for each of the three matches after the first).\n",
    "\n",
    "- Card 2 has two winning numbers (32 and 61), so it is worth 2 points.\n",
    "- Card 3 has two winning numbers (1 and 21), so it is worth 2 points.\n",
    "- Card 4 has one winning number (84), so it is worth 1 point.\n",
    "- Card 5 has no winning numbers, so it is worth no points.\n",
    "- Card 6 has no winning numbers, so it is worth no points.\n",
    "\n",
    "So, in this example, the Elf's pile of scratchcards is worth 13 points."
   ]
  },
  {
   "cell_type": "code",
   "execution_count": 49,
   "metadata": {},
   "outputs": [
    {
     "name": "stdout",
     "output_type": "stream",
     "text": [
      "Solution 22674\n"
     ]
    }
   ],
   "source": [
    "#!/usr/bin/env python3\n",
    "import re\n",
    "\n",
    "fh = open(\"input_big.txt\", 'r')\n",
    "p = re.compile(r\"Card +(\\d+): (.+) \\| (.+)\")\n",
    "\n",
    "solution = 0\n",
    "for line in fh:\n",
    "    line = line.strip()\n",
    "    \n",
    "    groups = p.match(line).groups()\n",
    "    card_id = groups[0]\n",
    "    card_numbers1 = [int(x) for x in re.split(r\" +\", groups[1].strip())]\n",
    "    card_numbers2 = [int(x) for x in re.split(r\" +\", groups[2].strip())]\n",
    "\n",
    "    res = set(card_numbers1).intersection(card_numbers2)\n",
    "\n",
    "    if len(res) > 0:\n",
    "        solution += 2**(len(res)-1)\n",
    "    \n",
    "print(f\"Solution {solution}\")"
   ]
  },
  {
   "cell_type": "markdown",
   "metadata": {},
   "source": [
    "- Card 1 has four matching numbers, so you win one copy each of the next four cards: cards 2, 3, 4, and 5.\n",
    "- Your original card 2 has two matching numbers, so you win one copy each of cards 3 and 4.\n",
    "- Your copy of card 2 also wins one copy each of cards 3 and 4.\n",
    "- Your four instances of card 3 (one original and three copies) have two matching numbers, so you win four copies each of cards 4 and 5.\n",
    "- Your eight instances of card 4 (one original and seven copies) have one matching number, so you win eight copies of card 5.\n",
    "- Your fourteen instances of card 5 (one original and thirteen copies) have no matching numbers and win no more cards.\n",
    "- Your one instance of card 6 (one original) has no matching numbers and wins no more cards."
   ]
  },
  {
   "cell_type": "code",
   "execution_count": 19,
   "metadata": {},
   "outputs": [
    {
     "name": "stdout",
     "output_type": "stream",
     "text": [
      "Solution: 5747443\n"
     ]
    }
   ],
   "source": [
    "#!/usr/bin/env python3\n",
    "import enum\n",
    "import re\n",
    "\n",
    "fh = open(\"input_big.txt\", 'r')\n",
    "p = re.compile(r\"Card +(\\d+): (.+) \\| (.+)\")\n",
    "\n",
    "def get_winnings(line):\n",
    "    groups = p.match(line).groups()\n",
    "    card_numbers1 = [int(x) for x in re.split(r\" +\", groups[1].strip())]\n",
    "    card_numbers2 = [int(x) for x in re.split(r\" +\", groups[2].strip())]\n",
    "    winnings = set(card_numbers1).intersection(card_numbers2)\n",
    "    return len(winnings)\n",
    "\n",
    "to_process = []\n",
    "total = 0\n",
    "total = []\n",
    "# One of each card anyway. So make a list of ones for each card\n",
    "for i, line in enumerate(fh):\n",
    "    to_process.append(get_winnings(line))\n",
    "    total.append(1)\n",
    "\n",
    "# Process the cards:\n",
    "for i, win in enumerate(to_process):\n",
    "    # Add new card copies:\n",
    "    for j in range(i+1, i+win+1):\n",
    "        total[j] += total[i]\n",
    "print(f\"Solution: {sum(total)}\")\n",
    "\n",
    "# 5747443"
   ]
  }
 ],
 "metadata": {
  "kernelspec": {
   "display_name": "md_production",
   "language": "python",
   "name": "python3"
  },
  "language_info": {
   "codemirror_mode": {
    "name": "ipython",
    "version": 3
   },
   "file_extension": ".py",
   "mimetype": "text/x-python",
   "name": "python",
   "nbconvert_exporter": "python",
   "pygments_lexer": "ipython3",
   "version": "3.12.0"
  }
 },
 "nbformat": 4,
 "nbformat_minor": 2
}
