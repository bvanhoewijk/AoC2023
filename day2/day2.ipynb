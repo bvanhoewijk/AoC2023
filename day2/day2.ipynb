{
 "cells": [
  {
   "cell_type": "markdown",
   "metadata": {},
   "source": [
    "In game 1, three sets of cubes are revealed from the bag (and then put back again). The first set is 3 blue cubes and 4 red cubes; the second set is 1 red cube, 2 green cubes, and 6 blue cubes; the third set is only 2 green cubes.\n",
    "\n",
    "The Elf would first like to know which games would have been possible if the bag contained only 12 red cubes, 13 green cubes, and 14 blue cubes?\n",
    "\n",
    "In the example above, games 1, 2, and 5 would have been possible if the bag had been loaded with that configuration. However, game 3 would have been impossible because at one point the Elf showed you 20 red cubes at once; similarly, game 4 would also have been impossible because the Elf showed you 15 blue cubes at once. If you add up the IDs of the games that would have been possible, you get 8."
   ]
  },
  {
   "cell_type": "code",
   "execution_count": 25,
   "metadata": {},
   "outputs": [
    {
     "name": "stdout",
     "output_type": "stream",
     "text": [
      "solution 2683\n"
     ]
    }
   ],
   "source": [
    "fh = open(\"input1_big.txt\", 'r')\n",
    "\n",
    "valid = {\"red\" : 12, \"green\" : 13, \"blue\": 14}\n",
    "solution = 0\n",
    "for line in fh:\n",
    "    line = line.strip()\n",
    "    game_id = int(line.split(\":\")[0].split(\" \")[1])\n",
    "    sets = line.split(\": \")[1].split(\";\")\n",
    "\n",
    "    possible = True\n",
    "    for s in sets:\n",
    "        for turn in s.strip().split(\", \"):\n",
    "            digit, color = int(turn.split(\" \")[0]), turn.split(\" \")[1]\n",
    "            if digit > valid[color]:\n",
    "                possible = False\n",
    "    if possible:\n",
    "        solution += game_id\n",
    "print(\"solution\", solution)"
   ]
  },
  {
   "cell_type": "markdown",
   "metadata": {},
   "source": [
    "# Part II"
   ]
  },
  {
   "cell_type": "markdown",
   "metadata": {},
   "source": [
    "The power of a set of cubes is equal to the numbers of red, green, and blue cubes multiplied together. The power of the minimum set of cubes in game 1 is 48. In games 2-5 it was 12, 1560, 630, and 36, respectively. Adding up these five powers produces the sum 2286.\n",
    "\n",
    "For each game, find the minimum set of cubes that must have been present. What is the sum of the power of these sets?"
   ]
  },
  {
   "cell_type": "code",
   "execution_count": 33,
   "metadata": {},
   "outputs": [
    {
     "name": "stdout",
     "output_type": "stream",
     "text": [
      "49710\n"
     ]
    }
   ],
   "source": [
    "fh = open(\"input1_big.txt\", 'r')\n",
    "\n",
    "solution = 0\n",
    "for line in fh:\n",
    "    minimum = {\"red\" : 0, \"green\" : 0, \"blue\": 0}\n",
    "    line = line.strip()\n",
    "    game_id = int(line.split(\":\")[0].split(\" \")[1])\n",
    "    sets = line.split(\": \")[1].split(\";\")\n",
    "\n",
    "    possible = True\n",
    "    for s in sets:\n",
    "        for turn in s.strip().split(\", \"):\n",
    "            digit, color = int(turn.split(\" \")[0]), turn.split(\" \")[1]\n",
    "            if digit > minimum[color]:\n",
    "                minimum[color] = digit\n",
    "    solution += minimum['red'] * minimum['blue'] * minimum['green']\n",
    "\n",
    "print(solution)"
   ]
  }
 ],
 "metadata": {
  "kernelspec": {
   "display_name": "md_production",
   "language": "python",
   "name": "python3"
  },
  "language_info": {
   "codemirror_mode": {
    "name": "ipython",
    "version": 3
   },
   "file_extension": ".py",
   "mimetype": "text/x-python",
   "name": "python",
   "nbconvert_exporter": "python",
   "pygments_lexer": "ipython3",
   "version": "3.12.0"
  }
 },
 "nbformat": 4,
 "nbformat_minor": 2
}
