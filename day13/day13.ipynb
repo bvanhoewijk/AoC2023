{
 "cells": [
  {
   "cell_type": "code",
   "execution_count": 48,
   "metadata": {},
   "outputs": [
    {
     "data": {
      "text/plain": [
       "['#..#.#........#',\n",
       " '#..######..####',\n",
       " '.##..#.#.##.#.#',\n",
       " '#..##..........',\n",
       " '######........#',\n",
       " '#..####......##',\n",
       " '.##.##.#...##.#']"
      ]
     },
     "execution_count": 48,
     "metadata": {},
     "output_type": "execute_result"
    }
   ],
   "source": [
    "fh = open(\"big.txt\", 'r')\n",
    "dataset = \"\".join(fh.readlines()).split(\"\\n\\n\")\n",
    "dataset = [line.split(\"\\n\") for line in dataset]\n",
    "dataset[0]"
   ]
  },
  {
   "cell_type": "markdown",
   "metadata": {},
   "source": [
    "# Part 1"
   ]
  },
  {
   "cell_type": "code",
   "execution_count": 64,
   "metadata": {},
   "outputs": [
    {
     "name": "stdout",
     "output_type": "stream",
     "text": [
      "Solution : 33728\n"
     ]
    }
   ],
   "source": [
    "import numpy as np\n",
    "original = list()\n",
    "for p, pattern in enumerate(dataset):\n",
    "    current_pattern = np.array([[*x] for x in pattern])\n",
    "    colsize = current_pattern.shape[1]\n",
    "    rowsize = current_pattern.shape[0]\n",
    "    for c in range(colsize-1):\n",
    "        if np.array_equal(current_pattern[:,c], current_pattern[:,c + 1]):\n",
    "            # To check either side of mirror:\n",
    "            to_check = min(c, colsize - c - 2)\n",
    "            mirror = True\n",
    "            for i in range(1, to_check+1):\n",
    "                res = np.array_equal(current_pattern[:,c-i], current_pattern[:,c + 1 + i])\n",
    "                if not res:\n",
    "                    mirror = False\n",
    "            if mirror:\n",
    "                original.append([p, c+1])\n",
    "    for r in range(rowsize-1):\n",
    "        if np.array_equal(current_pattern[r,:], current_pattern[r + 1,:]):\n",
    "            # To check either side of mirror:\n",
    "            to_check = min(r, rowsize - r - 2)\n",
    "            mirror = True\n",
    "            for i in range(1, to_check+1):\n",
    "                res = np.array_equal(current_pattern[r-i,:], current_pattern[r + 1 + i,:])\n",
    "                if not res:\n",
    "                    mirror = False\n",
    "            if mirror:\n",
    "                original.append([p, (r+1)*100])\n",
    "\n",
    "print(\"Solution :\", sum([x[1] for x in original]))"
   ]
  },
  {
   "cell_type": "code",
   "execution_count": 63,
   "metadata": {},
   "outputs": [
    {
     "name": "stdout",
     "output_type": "stream",
     "text": [
      "Solution : 28235\n"
     ]
    }
   ],
   "source": [
    "change = {\"#\" : \".\", \".\" : \"#\"}\n",
    "def change_pattern(pat, i):\n",
    "    col = (i) % pat.shape[1]\n",
    "    row = i // pat.shape[1]\n",
    "    pat[row, col] = change[pat[row, col]]\n",
    "    return pat\n",
    "\n",
    "import numpy as np\n",
    "result = list()\n",
    "\n",
    "for p, pattern in enumerate(dataset):\n",
    "    pattern = np.array([[*x] for x in pattern])\n",
    "    mirror_found = False\n",
    "    for i in range(pattern.size):\n",
    "        new_pattern = change_pattern(pattern.copy(), i)\n",
    "        colsize = new_pattern.shape[1]\n",
    "        rowsize = new_pattern.shape[0]\n",
    "        if mirror_found:\n",
    "            continue\n",
    "        for c in range(colsize-1):\n",
    "            if np.array_equal(new_pattern[:,c], new_pattern[:,c + 1]):\n",
    "                # To check either side of mirror:\n",
    "                to_check = min(c, colsize - c - 2)\n",
    "                mirror = True\n",
    "                for i in range(1, to_check+1):\n",
    "                    res = np.array_equal(new_pattern[:,c-i], new_pattern[:,c + 1 + i])\n",
    "                    if not res:\n",
    "                        mirror = False\n",
    "                if mirror:\n",
    "                    if [p, c+1] not in original and [p, c+1] not in result:\n",
    "                        result.append([p, c+1])\n",
    "        for r in range(rowsize-1):\n",
    "            if np.array_equal(new_pattern[r,:], new_pattern[r + 1,:]):\n",
    "                # To check either side of mirror:\n",
    "                to_check = min(r, rowsize - r - 2)\n",
    "                mirror = True\n",
    "                for i in range(1, to_check+1):\n",
    "                    res = np.array_equal(new_pattern[r-i,:], new_pattern[r + 1 + i,:])\n",
    "                    if not res:\n",
    "                        mirror = False\n",
    "                if mirror:\n",
    "                    if [p, ((r+1)*100)] not in original and [p, ((r+1)*100)] not in result:\n",
    "                        result.append([p, (r+1)*100])\n",
    "                \n",
    "print(\"Solution :\", sum([x[1] for x in result]))"
   ]
  },
  {
   "cell_type": "code",
   "execution_count": null,
   "metadata": {},
   "outputs": [],
   "source": []
  }
 ],
 "metadata": {
  "kernelspec": {
   "display_name": "md_production",
   "language": "python",
   "name": "python3"
  },
  "language_info": {
   "codemirror_mode": {
    "name": "ipython",
    "version": 3
   },
   "file_extension": ".py",
   "mimetype": "text/x-python",
   "name": "python",
   "nbconvert_exporter": "python",
   "pygments_lexer": "ipython3",
   "version": "3.12.0"
  }
 },
 "nbformat": 4,
 "nbformat_minor": 2
}
