{
 "cells": [
  {
   "cell_type": "code",
   "execution_count": null,
   "metadata": {},
   "outputs": [],
   "source": [
    "#!/usr/bin/env python3\n",
    "import re\n",
    "\n",
    "fh = open(\"input1.txt\", 'r')\n",
    "\n",
    "s = 0\n",
    "for line in fh:\n",
    "    line = line.strip()\n",
    "    line = re.sub(r'\\D', '', line)\n",
    "    s += int(line[0] + line[-1])\n",
    "    \n",
    "print(f\"Solution {s}\")"
   ]
  },
  {
   "cell_type": "markdown",
   "metadata": {},
   "source": [
    "# Part 2"
   ]
  },
  {
   "cell_type": "code",
   "execution_count": 3,
   "metadata": {},
   "outputs": [
    {
     "name": "stdout",
     "output_type": "stream",
     "text": [
      "Solution 55701\n"
     ]
    }
   ],
   "source": [
    "#!/usr/bin/env python3\n",
    "import re\n",
    "\n",
    "def replace_composite(string):\n",
    "    string = string.replace(\"oneight\", \"oneeight\")\n",
    "    string = string.replace(\"threeight\", \"threeeight\")\n",
    "    string = string.replace(\"fiveight\", \"fiveeight\")\n",
    "    string = string.replace(\"nineight\", \"nineeight\")\n",
    "    string = string.replace(\"twone\", \"twoone\")\n",
    "    string = string.replace(\"sevenine\", \"sevennine\")\n",
    "    string = string.replace(\"eightwo\", \"eighttwo\")\n",
    "\n",
    "    return string\n",
    "\n",
    "solution = 0\n",
    "fh = open(\"input2.txt\", 'r')\n",
    "digits = [\"one\", \"two\", \"three\", \"four\", \"five\", \"six\" , \"seven\", \"eight\", \"nine\"]\n",
    "my_dict = dict(zip(digits, list(range(1, 10))))\n",
    "for line in fh:\n",
    "    line = line.strip()\n",
    "    line = replace_composite(line)\n",
    "    for letter in digits:\n",
    "        line = line.replace(letter, str(my_dict[letter]))\n",
    "\n",
    "    # Remove all non digits:\n",
    "    line = re.sub(r'\\D', '', line)\n",
    "    solution += int(line[0] + line[-1])\n",
    "    \n",
    "print(f\"Solution {solution}\")"
   ]
  }
 ],
 "metadata": {
  "kernelspec": {
   "display_name": "md_production",
   "language": "python",
   "name": "python3"
  },
  "language_info": {
   "codemirror_mode": {
    "name": "ipython",
    "version": 3
   },
   "file_extension": ".py",
   "mimetype": "text/x-python",
   "name": "python",
   "nbconvert_exporter": "python",
   "pygments_lexer": "ipython3",
   "version": "3.12.0"
  }
 },
 "nbformat": 4,
 "nbformat_minor": 2
}
