{
 "cells": [
  {
   "cell_type": "markdown",
   "metadata": {},
   "source": [
    "# Part 1"
   ]
  },
  {
   "cell_type": "code",
   "execution_count": 49,
   "metadata": {},
   "outputs": [
    {
     "name": "stdout",
     "output_type": "stream",
     "text": [
      "Solution part 1:  1901217887\n",
      "Solution part 2:  905\n"
     ]
    }
   ],
   "source": [
    "import numpy as np\n",
    "\n",
    "def interpolate(item):\n",
    "    steps = [item]\n",
    "\n",
    "    # Check for zeros:\n",
    "    while(any(np.diff(item))):\n",
    "        item = np.diff(item).tolist()\n",
    "        steps.append(item)\n",
    "    \n",
    "    # Start at the bottom and work up:\n",
    "    for i in reversed(range(len(steps))):\n",
    "        steps[i-1].append(steps[i-1][-1]+steps[i][-1])\n",
    "\n",
    "    return steps[0][-1]\n",
    "\n",
    "dataset = []\n",
    "fh = open(\"big1.txt\", 'r')\n",
    "for i, line in enumerate(fh):\n",
    "    dataset.append([int (x) for x in line.strip().split(\" \")])\n",
    "\n",
    "print(\"Solution part 1: \", sum([interpolate(x) for x in dataset]))\n",
    "print(\"Solution part 2: \", sum([interpolate(list(reversed(x))) for x in dataset]))"
   ]
  }
 ],
 "metadata": {
  "kernelspec": {
   "display_name": "md_production",
   "language": "python",
   "name": "python3"
  },
  "language_info": {
   "codemirror_mode": {
    "name": "ipython",
    "version": 3
   },
   "file_extension": ".py",
   "mimetype": "text/x-python",
   "name": "python",
   "nbconvert_exporter": "python",
   "pygments_lexer": "ipython3",
   "version": "3.12.0"
  }
 },
 "nbformat": 4,
 "nbformat_minor": 2
}
