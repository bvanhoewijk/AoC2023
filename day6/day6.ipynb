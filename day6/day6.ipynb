{
 "cells": [
  {
   "cell_type": "code",
   "execution_count": 81,
   "metadata": {},
   "outputs": [],
   "source": []
  },
  {
   "cell_type": "code",
   "execution_count": 82,
   "metadata": {},
   "outputs": [
    {
     "name": "stdout",
     "output_type": "stream",
     "text": [
      "result part2: 140220\n"
     ]
    }
   ],
   "source": [
    "def load_data(file='input_big.txt'):\n",
    "    fh = open(file, 'r')\n",
    "    dataset = []\n",
    "    import re\n",
    "    for i, line in enumerate(fh):\n",
    "        line = line.strip()\n",
    "        line = list(re.split(r\" +\", line)[1:])\n",
    "        line = list(map(int, line))\n",
    "        dataset.append(line)\n",
    "\n",
    "    return dataset\n",
    "\n",
    "def part1(dataset):\n",
    "    total_wins = 1\n",
    "    for race in range(len(dataset[0])):\n",
    "        race_length = dataset[0][race]\n",
    "        distance = dataset[1][race]\n",
    "        wins = 0\n",
    "        for i in range(race_length):\n",
    "            movement = i * (race_length - i)\n",
    "            if movement > distance:\n",
    "                wins += 1\n",
    "        total_wins *= wins\n",
    "\n",
    "    print(f\"result part2: {total_wins}\")\n",
    "\n",
    "def part2(dataset):\n",
    "    # Convert items to string, join and convert back to integer to get the \n",
    "    # correct dataset shape:\n",
    "    dataset = [\"\".join(list(map(str, item))) for item in dataset]\n",
    "    dataset = [int(x) for x in dataset]\n",
    "\n",
    "    race_length = dataset[0]\n",
    "    distance = dataset[1]\n",
    "\n",
    "    wins = []\n",
    "    # Don't need to loop through all the possibilities!\n",
    "    # Find start of the win range:\n",
    "    for i in range(race_length):\n",
    "        movement = i * (race_length - i)\n",
    "        if movement > distance:\n",
    "            wins.append(i)\n",
    "            break\n",
    "\n",
    "    # Find end of the win range:\n",
    "    for i in reversed(range(race_length)):\n",
    "        movement = i * (race_length - i)\n",
    "        if movement > distance:\n",
    "            wins.append(i)\n",
    "            break\n",
    "\n",
    "    print(f\"result part2: {wins[1] - wins[0]+1}\")\n",
    "\n",
    "dataset = load_data()\n",
    "part1(dataset)\n",
    "part2(dataset)"
   ]
  },
  {
   "cell_type": "markdown",
   "metadata": {},
   "source": [
    "# part II"
   ]
  },
  {
   "cell_type": "code",
   "execution_count": 83,
   "metadata": {},
   "outputs": [],
   "source": []
  },
  {
   "cell_type": "code",
   "execution_count": 84,
   "metadata": {},
   "outputs": [
    {
     "name": "stdout",
     "output_type": "stream",
     "text": [
      "result part2: 140220\n",
      "result part2: 39570185\n"
     ]
    }
   ],
   "source": []
  },
  {
   "cell_type": "code",
   "execution_count": null,
   "metadata": {},
   "outputs": [],
   "source": []
  }
 ],
 "metadata": {
  "kernelspec": {
   "display_name": "md_production",
   "language": "python",
   "name": "python3"
  },
  "language_info": {
   "codemirror_mode": {
    "name": "ipython",
    "version": 3
   },
   "file_extension": ".py",
   "mimetype": "text/x-python",
   "name": "python",
   "nbconvert_exporter": "python",
   "pygments_lexer": "ipython3",
   "version": "3.12.0"
  }
 },
 "nbformat": 4,
 "nbformat_minor": 2
}
