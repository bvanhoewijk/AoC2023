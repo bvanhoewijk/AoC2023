{
 "cells": [
  {
   "cell_type": "code",
   "execution_count": 38,
   "metadata": {},
   "outputs": [
    {
     "data": {
      "text/plain": [
       "[[53, 83, 72, 88], [333, 1635, 1289, 1532]]"
      ]
     },
     "execution_count": 38,
     "metadata": {},
     "output_type": "execute_result"
    }
   ],
   "source": [
    "fh = open('input_big.txt', 'r')\n",
    "dataset = []\n",
    "import re\n",
    "for i, line in enumerate(fh):\n",
    "    line = line.strip()\n",
    "    line = list(re.split(r\" +\", line)[1:])\n",
    "    line = list(map(int, line))\n",
    "    dataset.append(line)\n",
    "\n",
    "dataset"
   ]
  },
  {
   "cell_type": "code",
   "execution_count": 40,
   "metadata": {},
   "outputs": [
    {
     "name": "stdout",
     "output_type": "stream",
     "text": [
      "result: 140220\n"
     ]
    }
   ],
   "source": [
    "best = []\n",
    "\n",
    "record = 9\n",
    "\n",
    "total_wins = 1\n",
    "for race in range(len(dataset[0])):\n",
    "    race_length = dataset[0][race]\n",
    "    distance = dataset[1][race]\n",
    "    wins = 0\n",
    "    for i in range(race_length):\n",
    "        movement = i * (race_length - i)\n",
    "        if movement > distance:\n",
    "            wins += 1\n",
    "    total_wins *= wins\n",
    "\n",
    "print(f\"result: {total_wins}\")"
   ]
  },
  {
   "cell_type": "markdown",
   "metadata": {},
   "source": [
    "# part II"
   ]
  },
  {
   "cell_type": "code",
   "execution_count": 35,
   "metadata": {},
   "outputs": [
    {
     "name": "stdout",
     "output_type": "stream",
     "text": [
      "[53837288, 333163512891532]\n"
     ]
    }
   ],
   "source": [
    "fh = open('input_big.txt', 'r')\n",
    "dataset = []\n",
    "import re\n",
    "for i, line in enumerate(fh):\n",
    "    line = re.split(r\": +\", line)[1:]\n",
    "    line = line[0].replace(\" \", \"\")\n",
    "    dataset.append(int(line))\n",
    "\n",
    "print(dataset)\n"
   ]
  },
  {
   "cell_type": "code",
   "execution_count": 33,
   "metadata": {},
   "outputs": [
    {
     "name": "stdout",
     "output_type": "stream",
     "text": [
      "39570185\n",
      "result: 39570185\n"
     ]
    }
   ],
   "source": [
    "race_length = dataset[0]\n",
    "distance = dataset[1]\n",
    "\n",
    "wins = []\n",
    "# Don't need to loop through all the possibilities:\n",
    "# Find start of the win range:\n",
    "for i in range(race_length):\n",
    "    movement = i * (race_length - i)\n",
    "    if movement > distance:\n",
    "        wins.append(i)\n",
    "        break\n",
    "\n",
    "# Find end of the win range:\n",
    "for i in reversed(range(race_length)):\n",
    "    movement = i * (race_length - i)\n",
    "    if movement > distance:\n",
    "        wins.append(i)\n",
    "        break\n",
    "\n",
    "print(f\"result: {wins[1] - wins[0]+1}\")"
   ]
  },
  {
   "cell_type": "code",
   "execution_count": null,
   "metadata": {},
   "outputs": [],
   "source": []
  }
 ],
 "metadata": {
  "kernelspec": {
   "display_name": "md_production",
   "language": "python",
   "name": "python3"
  },
  "language_info": {
   "codemirror_mode": {
    "name": "ipython",
    "version": 3
   },
   "file_extension": ".py",
   "mimetype": "text/x-python",
   "name": "python",
   "nbconvert_exporter": "python",
   "pygments_lexer": "ipython3",
   "version": "3.12.0"
  }
 },
 "nbformat": 4,
 "nbformat_minor": 2
}
