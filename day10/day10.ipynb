{
 "cells": [
  {
   "cell_type": "code",
   "execution_count": 396,
   "metadata": {},
   "outputs": [],
   "source": [
    "dataset = []\n",
    "import numpy as np\n",
    "def load_dataset(file='small1.txt'):\n",
    "    fh = open(file, 'r')\n",
    "    dataset = []\n",
    "    for i, line in enumerate(fh):\n",
    "        dataset.append([*line.strip()])\n",
    "    return np.array(dataset)\n",
    "\n",
    "dataset = load_dataset(\"input_big.txt\")\n",
    "# print_list(dataset)"
   ]
  },
  {
   "cell_type": "code",
   "execution_count": 400,
   "metadata": {},
   "outputs": [],
   "source": [
    "import numpy as np\n",
    "\n",
    "directions = {\n",
    "    \"|\" : [(-1, 0), (1, 0)],\n",
    "    \"-\" : [(0, -1), (0, 1)],\n",
    "    \"L\" : [(-1, 0), (0, 1)],\n",
    "    \"J\" : [(-1, 0), (0, -1)],\n",
    "    \"7\" : [(1, 0),  (0, -1)],\n",
    "    \"F\" : [(1, 0),  (0, 1)],\n",
    "    \".\" : [],\n",
    "    \"S\" : [],\n",
    "    }\n",
    "def find_start(dataset):\n",
    "    starts = []\n",
    "    xsize, ysize = dataset.shape\n",
    "    for x in range(xsize):\n",
    "        for y in range(ysize):\n",
    "            if dataset[x,y] == \"S\":\n",
    "                if dataset[x+1,y] != \".\":\n",
    "                    starts.append((x+1,y))\n",
    "                if dataset[x-1,y] != \".\":\n",
    "                    starts.append((x-1,y))\n",
    "                if dataset[x,y+1] != \".\":\n",
    "                    starts.append((x,y+1))\n",
    "                if dataset[x,y-1] != \".\":\n",
    "                    starts.append((x,y-1))\n",
    "                return starts\n",
    "            \n",
    "def bfs(dataset, start1, start2): \n",
    "    visited = []\n",
    "    queue1 = []\n",
    "    queue2 = []\n",
    "    visited.append(start1)\n",
    "    visited.append(start2)\n",
    "    queue1.append(start1)\n",
    "    queue2.append(start2)\n",
    "\n",
    "    while queue1 and queue2:\n",
    "        m1 = queue1.pop(0) \n",
    "\n",
    "        for neighbour in next_directions(dataset[m1], m1[0], m1[1]):\n",
    "            if neighbour not in visited:\n",
    "                visited.append(neighbour)\n",
    "                queue1.append(neighbour)\n",
    "\n",
    "        m2 = queue2.pop(0) \n",
    "        for neighbour in next_directions(dataset[m2], m2[0], m2[1]):\n",
    "            if neighbour not in visited:\n",
    "                visited.append(neighbour)\n",
    "                queue2.append(neighbour)\n",
    "    return visited\n",
    "\n",
    "def next_directions(c, x, y):\n",
    "    dirs = []\n",
    "    options = directions[c]\n",
    "    for item in options:\n",
    "        dirs.append((x+item[0], y+item[1]))\n",
    "    return dirs"
   ]
  },
  {
   "cell_type": "code",
   "execution_count": 401,
   "metadata": {},
   "outputs": [
    {
     "name": "stdout",
     "output_type": "stream",
     "text": [
      "Solution part 1: 0\n"
     ]
    }
   ],
   "source": [
    "starts = find_start(dataset)    \n",
    "path = bfs(dataset, starts[0], starts[1])\n",
    "print(\"Solution part 1:\", int(len(path)/2))"
   ]
  },
  {
   "cell_type": "code",
   "execution_count": 399,
   "metadata": {},
   "outputs": [
    {
     "name": "stdout",
     "output_type": "stream",
     "text": [
      "Solution part 2: 501\n"
     ]
    }
   ],
   "source": [
    "flip_count = 0\n",
    "for x in range(len(dataset)):\n",
    "    out = True\n",
    "    for y in range(len(dataset)):\n",
    "        if (x,y) in path:\n",
    "            if dataset[x,y] in [\"|\", \"F\", \"7\", \"S\"]:\n",
    "                out = not out\n",
    "        if not out and (x,y) not in path:\n",
    "            flip_count += 1\n",
    "\n",
    "print(\"Solution part 2:\", flip_count)"
   ]
  }
 ],
 "metadata": {
  "kernelspec": {
   "display_name": "Python 3",
   "language": "python",
   "name": "python3"
  },
  "language_info": {
   "codemirror_mode": {
    "name": "ipython",
    "version": 3
   },
   "file_extension": ".py",
   "mimetype": "text/x-python",
   "name": "python",
   "nbconvert_exporter": "python",
   "pygments_lexer": "ipython3",
   "version": "3.12.0"
  }
 },
 "nbformat": 4,
 "nbformat_minor": 2
}
