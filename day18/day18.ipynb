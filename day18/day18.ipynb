{
 "cells": [
  {
   "cell_type": "code",
   "execution_count": 1,
   "metadata": {},
   "outputs": [
    {
     "name": "stdout",
     "output_type": "stream",
     "text": [
      "Solution part 1: 49578\n"
     ]
    }
   ],
   "source": [
    "def area_by_shoelace(x, y):\n",
    "    \"Assumes x,y points go around the polygon in one direction\"\n",
    "    \"https://rosettacode.org/wiki/Shoelace_formula_for_polygonal_area#Python\"\n",
    "    return abs( sum(i * j for i, j in zip(x, y[1:] + y[:1]))\n",
    "               -sum(i * j for i, j in zip(x[1:] + x[:1], y))) / 2\n",
    "\n",
    "fh = open(\"big.txt\", \"r\")\n",
    "dataset = [line.strip().split(\" \") for line in fh.readlines()]\n",
    "\n",
    "\n",
    "direction = [(1,0), # D\n",
    "             (-1,0),# U\n",
    "             (0,-1),# L\n",
    "             (0,1), # R\n",
    "            ]\n",
    "\n",
    "dir_dict = dict(zip([*\"DULR\"], direction))\n",
    "\n",
    "result = [(0,0)]\n",
    "border = 0\n",
    "for item in dataset:\n",
    "    dir, length, color = item\n",
    "    length = int(length)\n",
    "    # Last result:\n",
    "    start = result[-1]\n",
    "\n",
    "    # New point\n",
    "    end = (start[0] + length * dir_dict[dir][0],\n",
    "           start[1] + length * dir_dict[dir][1])\n",
    "    \n",
    "    result.append(end)\n",
    "    border += length\n",
    "\n",
    "x, y = zip(*result)\n",
    "area = area_by_shoelace(x, y)\n",
    "print(f\"Solution part 1: {area + ((border / 2) + 1):.0f}\")\n"
   ]
  },
  {
   "cell_type": "code",
   "execution_count": 2,
   "metadata": {},
   "outputs": [
    {
     "name": "stdout",
     "output_type": "stream",
     "text": [
      "Solution part 2: 52885384955882\n"
     ]
    }
   ],
   "source": [
    "result = [(0,0)]\n",
    "border = 0\n",
    "digit_to_str = dict(zip([*\"0123\"], [*\"RDLU\"]))\n",
    "\n",
    "for item in dataset:\n",
    "    _, _, color = item\n",
    "    # Grab first characters to compute length:\n",
    "    # \"(#70c710)\" -> \"70c71\"\n",
    "    # Hex to int:\n",
    "    length = int(color[2:-2], 16)\n",
    "    \n",
    "    # Final character to compute direction:\n",
    "    # \"(#70c710)\" -> \"0\"\n",
    "    dir = digit_to_str[color[-2]]\n",
    "\n",
    "    # Last result\n",
    "    start = result[-1]\n",
    "\n",
    "    # New point\n",
    "    end = (start[0] + length * dir_dict[dir][0],\n",
    "           start[1] + length * dir_dict[dir][1])\n",
    "    result.append(end)\n",
    "    border += length\n",
    "\n",
    "x, y = zip(*result)\n",
    "area = area_by_shoelace(x, y)\n",
    "print(f\"Solution part 2: {area + ((border / 2) + 1):.0f}\")"
   ]
  }
 ],
 "metadata": {
  "kernelspec": {
   "display_name": "md_production",
   "language": "python",
   "name": "python3"
  },
  "language_info": {
   "codemirror_mode": {
    "name": "ipython",
    "version": 3
   },
   "file_extension": ".py",
   "mimetype": "text/x-python",
   "name": "python",
   "nbconvert_exporter": "python",
   "pygments_lexer": "ipython3",
   "version": "3.12.0"
  }
 },
 "nbformat": 4,
 "nbformat_minor": 2
}
