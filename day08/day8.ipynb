{
 "cells": [
  {
   "cell_type": "markdown",
   "metadata": {},
   "source": [
    "    RL\n",
    "\n",
    "    AAA = (BBB, CCC)\n",
    "    BBB = (DDD, EEE)\n",
    "    CCC = (ZZZ, GGG)\n",
    "    DDD = (DDD, DDD)\n",
    "    EEE = (EEE, EEE)\n",
    "    GGG = (GGG, GGG)\n",
    "    ZZZ = (ZZZ, ZZZ)"
   ]
  },
  {
   "cell_type": "markdown",
   "metadata": {},
   "source": [
    "Starting with AAA, you need to look up the next element based on the next left/right instruction in your input. \n",
    "\n",
    "In this example, \n",
    "\n",
    "- start with AAA and go right (R) by choosing the right element of AAA, CCC. \n",
    "- Then, L means to choose the left element of CCC, ZZZ. \n",
    "\n",
    "By following the left/right instructions, you reach ZZZ in 2 steps."
   ]
  },
  {
   "cell_type": "code",
   "execution_count": 121,
   "metadata": {},
   "outputs": [],
   "source": [
    "def load_data(input=\"input_big.txt\"):\n",
    "    map = {}\n",
    "    fh = open(input, 'r')\n",
    "    instructions = []\n",
    "    for i, line in enumerate(fh):\n",
    "        line = line.strip()\n",
    "        if not line:\n",
    "            continue\n",
    "        if i == 0:\n",
    "            instructions = [int(x) for x in [*line.replace(\"R\", \"1\").replace(\"L\", \"0\")]]\n",
    "            continue\n",
    "        map[line.split(\" = \")[0]] = line.split(\" = \")[1][1:-1].split(\", \")\n",
    "    return map, instructions\n",
    "\n",
    "def traverse(start, end, instructions, map):\n",
    "    finish = False\n",
    "    current_node = start\n",
    "    steps = 0\n",
    "    while not finish:\n",
    "        for i in instructions:\n",
    "            steps +=1\n",
    "            current_node = map[current_node][i]\n",
    "            if current_node[2] == end[2]:\n",
    "                finish = True\n",
    "    return steps"
   ]
  },
  {
   "cell_type": "markdown",
   "metadata": {},
   "source": [
    "# Part II"
   ]
  },
  {
   "cell_type": "code",
   "execution_count": 122,
   "metadata": {},
   "outputs": [
    {
     "name": "stdout",
     "output_type": "stream",
     "text": [
      "Solution part 1:  12643\n",
      "Solution part 2:  13133452426987\n"
     ]
    }
   ],
   "source": [
    "the_map, instructions = load_data()\n",
    "\n",
    "#### Part 1:\n",
    "print(\"Solution part 1: \", traverse(\"AAA\", \"ZZZ\", instructions, the_map))\n",
    "\n",
    "#### Part 2:\n",
    "start_nodes = []\n",
    "end_nodes = []\n",
    "for item in the_map:\n",
    "    if item.endswith(\"A\"):\n",
    "        start_nodes.append(item)\n",
    "        end_nodes.append(item[:2]+\"Z\")\n",
    "\n",
    "res = []\n",
    "for s, e in zip(start_nodes, end_nodes):\n",
    "    res.append(traverse(s, e, instructions, map))\n",
    "    \n",
    "from math import lcm\n",
    "print(\"Solution part 2: \", lcm(*res))"
   ]
  },
  {
   "cell_type": "code",
   "execution_count": null,
   "metadata": {},
   "outputs": [],
   "source": []
  }
 ],
 "metadata": {
  "kernelspec": {
   "display_name": "md_production",
   "language": "python",
   "name": "python3"
  },
  "language_info": {
   "codemirror_mode": {
    "name": "ipython",
    "version": 3
   },
   "file_extension": ".py",
   "mimetype": "text/x-python",
   "name": "python",
   "nbconvert_exporter": "python",
   "pygments_lexer": "ipython3",
   "version": "3.12.0"
  }
 },
 "nbformat": 4,
 "nbformat_minor": 2
}
