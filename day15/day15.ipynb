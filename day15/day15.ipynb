{
 "cells": [
  {
   "cell_type": "markdown",
   "metadata": {},
   "source": [
    "# Part 2"
   ]
  },
  {
   "cell_type": "code",
   "execution_count": 24,
   "metadata": {},
   "outputs": [],
   "source": [
    "import re\n",
    "p = re.compile(r\"([a-zA-Z]+)(.)\")\n",
    "fh = open(\"big.txt\")\n",
    "dataset = fh.readlines()[0].split(\",\")\n",
    "\n",
    "def parse_item(item):\n",
    "    label, op = p.findall(item)[0]\n",
    "    strength = 0\n",
    "    if op == \"=\":\n",
    "        strength = int(item[len(label)+1:])\n",
    "    return label, op, strength\n",
    "\n",
    "def hash_algorithm(string):\n",
    "    current_value = 0\n",
    "    for c in string:\n",
    "        current_value += ord(c)\n",
    "        current_value *= 17\n",
    "        current_value = current_value % 256\n",
    "    return current_value"
   ]
  },
  {
   "cell_type": "code",
   "execution_count": 25,
   "metadata": {},
   "outputs": [
    {
     "name": "stdout",
     "output_type": "stream",
     "text": [
      "Part 1 516469\n",
      "Part 2 221627\n"
     ]
    }
   ],
   "source": [
    "boxes = [{} for _ in range(256)]\n",
    "for item in dataset:\n",
    "    label, op, strength = parse_item(item)\n",
    "    box_number = hash_algorithm(label)\n",
    "\n",
    "    if op == \"=\":\n",
    "        boxes[box_number][label] = strength\n",
    "    \n",
    "    if op == \"-\":\n",
    "        if label in boxes[box_number]:\n",
    "            del boxes[box_number][label]\n",
    "\n",
    "solution = 0\n",
    "for i, box in enumerate(boxes):\n",
    "        for s, slot in enumerate(box):\n",
    "            solution += (i+1) * (s+1) * box[slot]\n",
    "\n",
    "print(\"Part 1\", sum([hash_algorithm(item) for item in dataset]))\n",
    "print(\"Part 2\", solution)"
   ]
  },
  {
   "cell_type": "code",
   "execution_count": null,
   "metadata": {},
   "outputs": [],
   "source": []
  }
 ],
 "metadata": {
  "kernelspec": {
   "display_name": "md_production",
   "language": "python",
   "name": "python3"
  },
  "language_info": {
   "codemirror_mode": {
    "name": "ipython",
    "version": 3
   },
   "file_extension": ".py",
   "mimetype": "text/x-python",
   "name": "python",
   "nbconvert_exporter": "python",
   "pygments_lexer": "ipython3",
   "version": "3.12.0"
  }
 },
 "nbformat": 4,
 "nbformat_minor": 2
}
