{
 "cells": [
  {
   "cell_type": "code",
   "execution_count": 1,
   "metadata": {},
   "outputs": [],
   "source": [
    "from collections import Counter\n",
    "\n",
    "def getHandScore(cards):\n",
    "    counter = list(Counter(cards).values())\n",
    "    counter.sort(reverse=True)\n",
    "    # Five of a kind\n",
    "    if counter[0] == 5:\n",
    "        return 7\n",
    "    # Four of a kind\n",
    "    if counter[0] == 4:\n",
    "        return 6\n",
    "    # Full house:\n",
    "    if counter[0] == 3 and counter[1] == 2:\n",
    "        return 5\n",
    "    # Three of a kind\n",
    "    if counter[0] == 3:\n",
    "        return 4\n",
    "    # Two pair\n",
    "    if counter[0] == 2 and counter[1] == 2:\n",
    "        return 3\n",
    "    # One pair\n",
    "    if counter[0] == 2:\n",
    "        return 2\n",
    "    # High card\n",
    "    return 1\n",
    "\n",
    "def load_data(input=\"input_big.txt\"):\n",
    "    fh = open(input, 'r')\n",
    "    dataset = []\n",
    "    for i, line in enumerate(fh):\n",
    "        line = line.strip()\n",
    "        cards, score = line.split(\" \")\n",
    "        dataset.append((\"\".join([*cards]), int(score)))\n",
    "    return dataset"
   ]
  },
  {
   "cell_type": "markdown",
   "metadata": {},
   "source": [
    "# Part 1"
   ]
  },
  {
   "cell_type": "code",
   "execution_count": 2,
   "metadata": {},
   "outputs": [
    {
     "name": "stdout",
     "output_type": "stream",
     "text": [
      "246163188\n"
     ]
    }
   ],
   "source": [
    "from functools import cmp_to_key\n",
    "strength_dict = dict(zip(\"23456789TJQKA\", range(2, 15)))\n",
    "\n",
    "def compare_hands(a, b):\n",
    "    hs_a = getHandScore(a[0])\n",
    "    hs_b = getHandScore(b[0])\n",
    "    if hs_a > hs_b:\n",
    "        return 1\n",
    "    if hs_a < hs_b:\n",
    "        return -1\n",
    "    \n",
    "    for ca, cb in zip(a[0], b[0]):\n",
    "        if strength_dict[ca] > strength_dict[cb]:\n",
    "            return 1\n",
    "        elif strength_dict[ca] < strength_dict[cb]:\n",
    "            return -1\n",
    "    return 0\n",
    "\n",
    "dataset = load_data()\n",
    "dataset.sort(key=cmp_to_key(compare_hands))\n",
    "\n",
    "solution = 0\n",
    "for i, (card, score) in enumerate(dataset):\n",
    "    solution += (i+1) * score\n",
    "print(solution)"
   ]
  },
  {
   "cell_type": "markdown",
   "metadata": {},
   "source": [
    "# Part II"
   ]
  },
  {
   "cell_type": "code",
   "execution_count": 12,
   "metadata": {},
   "outputs": [
    {
     "name": "stdout",
     "output_type": "stream",
     "text": [
      "245794069\n"
     ]
    }
   ],
   "source": [
    "from functools import cmp_to_key\n",
    "strength_dict = dict(zip(\"J23456789TQKA\", range(2, 15)))\n",
    "\n",
    "def compare_hands(a, b, joker=False):\n",
    "    cards_a = best_hand(a[0])\n",
    "    cards_b = best_hand(b[0])\n",
    "\n",
    "    hs_a = getHandScore(cards_a)\n",
    "    hs_b = getHandScore(cards_b)\n",
    "    \n",
    "    if hs_a > hs_b:\n",
    "        return 1\n",
    "    if hs_a < hs_b:\n",
    "        return -1\n",
    "    \n",
    "    # Compare individual cards:\n",
    "    for ca, cb in zip(a[0], b[0]):\n",
    "        if strength_dict[ca] > strength_dict[cb]:\n",
    "            return 1\n",
    "        elif strength_dict[ca] < strength_dict[cb]:\n",
    "            return -1\n",
    "    return 0\n",
    "\n",
    "def best_hand(cards):\n",
    "    cards = cards.replace(\"J\", \"\")\n",
    "    if len(cards) == 5:\n",
    "        return cards\n",
    "    \n",
    "    if len(cards) == 0:\n",
    "        return \"JJJJJ\"\n",
    "    \n",
    "    counter = Counter(cards).most_common()\n",
    "    most_common_card = counter[0][0]\n",
    "    num_jokers = 5 - len(cards)\n",
    "    return cards + most_common_card * num_jokers\n",
    "\n",
    "###########################\n",
    "\n",
    "dataset = load_data()\n",
    "dataset.sort(key=cmp_to_key(compare_hands))\n",
    "\n",
    "solution = 0\n",
    "for i, (card, score) in enumerate(dataset):\n",
    "    solution += (i+1) * score\n",
    "print(solution)"
   ]
  },
  {
   "cell_type": "code",
   "execution_count": null,
   "metadata": {},
   "outputs": [],
   "source": []
  }
 ],
 "metadata": {
  "kernelspec": {
   "display_name": "md_production",
   "language": "python",
   "name": "python3"
  },
  "language_info": {
   "codemirror_mode": {
    "name": "ipython",
    "version": 3
   },
   "file_extension": ".py",
   "mimetype": "text/x-python",
   "name": "python",
   "nbconvert_exporter": "python",
   "pygments_lexer": "ipython3",
   "version": "3.12.0"
  }
 },
 "nbformat": 4,
 "nbformat_minor": 2
}
