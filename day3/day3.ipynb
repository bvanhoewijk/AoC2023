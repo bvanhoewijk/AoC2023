{
 "cells": [
  {
   "cell_type": "markdown",
   "metadata": {},
   "source": [
    "# Part 1"
   ]
  },
  {
   "cell_type": "markdown",
   "metadata": {},
   "source": [
    "    467..114..\n",
    "    ...*......\n",
    "    ..35..633.\n",
    "    ......#...\n",
    "    617*......\n",
    "    .....+.58.\n",
    "    ..592.....\n",
    "    ......755.\n",
    "    ...$.*....\n",
    "    .664.598.."
   ]
  },
  {
   "cell_type": "markdown",
   "metadata": {},
   "source": [
    "In this schematic, two numbers are not part numbers because they are not adjacent to a symbol: *114* (top right) and *58* (middle right). Every other number is adjacent to a symbol and so is a part number; their sum is *4361*.\n",
    "\n",
    "Of course, the actual engine schematic is much larger. What is the sum of all of the part numbers in the engine schematic?"
   ]
  },
  {
   "cell_type": "code",
   "execution_count": 159,
   "metadata": {},
   "outputs": [
    {
     "name": "stdout",
     "output_type": "stream",
     "text": [
      "553079\n"
     ]
    }
   ],
   "source": [
    "import re\n",
    "def load_data(file):\n",
    "    fh = open(file, 'r')\n",
    "\n",
    "    # Load and add padding\n",
    "    dataset = []\n",
    "    p = re.compile(r\"\\d+\")\n",
    "    for nr, line in enumerate(fh):\n",
    "        line = line.strip()\n",
    "        if nr == 0:\n",
    "            dataset.append(\".\" * (len(line) + 2))\n",
    "        dataset.append(\".\" + line + \".\")\n",
    "    dataset.append(\".\" * (len(line) + 2))\n",
    "    return dataset\n",
    "\n",
    "def is_symbol(symbol):\n",
    "    \"\"\"Check if character is not a numeric value or a dot\"\"\"\n",
    "    valid_symbols = set(\"1234567890.\")\n",
    "    if symbol in valid_symbols:\n",
    "        return False\n",
    "    return True\n",
    "\n",
    "def check_border(linenr, start, end, dataset):\n",
    "    \"\"\"Check the border around the symbol\"\"\"\n",
    "    for y in range(linenr-1, linenr+2):\n",
    "        for x in range(start-1, end+1):\n",
    "            if is_symbol(dataset[y][x]):\n",
    "                return True\n",
    "    return False\n",
    "\n",
    "dataset = load_data(\"input_big.txt\")\n",
    "solution = 0\n",
    "for y, line in enumerate(dataset):\n",
    "    for m in p.finditer(line):\n",
    "        start, end = m.start(), m.end()\n",
    "        # If border contains a symbol append to solution:\n",
    "        if(check_border(y, start, end, dataset)):\n",
    "            solution += int(m.group())\n",
    "\n",
    "print(solution)\n"
   ]
  },
  {
   "cell_type": "markdown",
   "metadata": {},
   "source": [
    "# Part 2"
   ]
  },
  {
   "cell_type": "markdown",
   "metadata": {},
   "source": [
    "    467..114..\n",
    "    ...*......\n",
    "    ..35..633.\n",
    "    ......#...\n",
    "    617*......\n",
    "    .....+.58.\n",
    "    ..592.....\n",
    "    ......755.\n",
    "    ...$.*....\n",
    "    .664.598..\n",
    "    \n",
    "In this schematic, there are two gears. The first is in the top left; it has part numbers 467 and 35, so its gear ratio is 16345. The second gear is in the lower right; its gear ratio is 451490. (The * adjacent to 617 is not a gear because it is only adjacent to one part number.) Adding up all of the gear ratios produces 467835."
   ]
  },
  {
   "cell_type": "code",
   "execution_count": 160,
   "metadata": {},
   "outputs": [
    {
     "name": "stdout",
     "output_type": "stream",
     "text": [
      "84363105\n"
     ]
    }
   ],
   "source": [
    "import pandas as pd\n",
    "\n",
    "dataset = load_data(\"input_big.txt\")\n",
    "\n",
    "p1 = re.compile(r\"\\d+\")\n",
    "p2 = re.compile(r\"\\*\")\n",
    "\n",
    "# Collect all locations of numbers:\n",
    "number_locations = []\n",
    "id = 0\n",
    "for y, line in enumerate(dataset):\n",
    "    for m in p1.finditer(line):\n",
    "        start, end = m.start(), m.end()\n",
    "        number_locations.append({\"id\": id, \"y\": y, \"start\": start, \"end\":end, \"value\": int(m.group())})\n",
    "        id +=1\n",
    "number_locations = pd.DataFrame(number_locations)\n",
    "\n",
    "# Loop through the dataset\n",
    "solution = 0\n",
    "for linenr, line in enumerate(dataset):\n",
    "    # Find the \"*\"\n",
    "    for m in p2.finditer(line):\n",
    "        x = m.start()\n",
    "        y = linenr\n",
    "\n",
    "        # Find adjacent numbers\n",
    "        found = number_locations[(number_locations['y'] <= y+1) & (number_locations['y'] >= y-1) & \n",
    "                                 (number_locations['start'] <= x+1) & (number_locations['end'] >= x)]\n",
    "\n",
    "        # If found two; multiply and add to solution:\n",
    "        found = found['value'].to_list()\n",
    "        if len(found) == 2:\n",
    "            solution += found[0] * found[1]\n",
    "\n",
    "print(solution)"
   ]
  },
  {
   "cell_type": "code",
   "execution_count": null,
   "metadata": {},
   "outputs": [],
   "source": []
  }
 ],
 "metadata": {
  "kernelspec": {
   "display_name": "md_production",
   "language": "python",
   "name": "python3"
  },
  "language_info": {
   "codemirror_mode": {
    "name": "ipython",
    "version": 3
   },
   "file_extension": ".py",
   "mimetype": "text/x-python",
   "name": "python",
   "nbconvert_exporter": "python",
   "pygments_lexer": "ipython3",
   "version": "3.12.0"
  }
 },
 "nbformat": 4,
 "nbformat_minor": 2
}
