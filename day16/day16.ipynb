{
 "cells": [
  {
   "cell_type": "code",
   "execution_count": 27,
   "metadata": {},
   "outputs": [
    {
     "name": "stdout",
     "output_type": "stream",
     "text": [
      "Solution part 1: 7392\n"
     ]
    },
    {
     "name": "stderr",
     "output_type": "stream",
     "text": [
      "100%|██████████| 110/110 [00:01<00:00, 104.00it/s]\n",
      "100%|██████████| 110/110 [00:00<00:00, 156.84it/s]\n",
      "100%|██████████| 110/110 [00:00<00:00, 115.49it/s]\n",
      "100%|██████████| 110/110 [00:00<00:00, 162.88it/s]"
     ]
    },
    {
     "name": "stdout",
     "output_type": "stream",
     "text": [
      "Solution part 2: 7665\n"
     ]
    },
    {
     "name": "stderr",
     "output_type": "stream",
     "text": [
      "\n"
     ]
    }
   ],
   "source": [
    "import numpy as np\n",
    "fh = open('big.txt', 'r')\n",
    "dataset = [[*x.strip()] for x in fh.readlines()]\n",
    "dataset = np.array(dataset)\n",
    "\n",
    "# Symbol shows new direction\n",
    "# Coordinate shows next position\n",
    "movement_dict = dict()\n",
    "movement_dict[\".\"] = {\">\" : [\">\", (0, 1)],  \"<\" : [\"<\", (0, -1)], \"^\" : [\"^\", (-1, 0)], \"v\" : [\"v\", (1, 0)]}\n",
    "\n",
    "movement_dict[\"\\\\\"] = {\">\" : [\"v\", (1, 0)], \"<\" : [\"^\", (-1, 0)], \"^\" : [\"<\", (0, -1)], \"v\" : [\">\", (0,  1)]}\n",
    "\n",
    "movement_dict[\"/\"] = {\">\" : [\"^\", (-1, 0)], \"<\" : [\"v\", (1, 0)],  \"^\" : [\">\", (0, 1)],  \"v\" : [\"<\", (0, -1)]}\n",
    "\n",
    "movement_dict[\"-\"] = {\">\" : [\">\", (0, 1)],\n",
    "                      \"<\" : [\"<\", (0,-1)],\n",
    "                      \"v\" : [\">\", (0, 1), \"<\", (0,-1)],\n",
    "                      \"^\" : [\">\", (0, 1), \"<\", (0,-1)]}\n",
    "\n",
    "movement_dict[\"|\"] = {\">\" : [\"^\", (-1, 0), \"v\", (1, 0)],\n",
    "                      \"<\" : [\"^\", (-1, 0), \"v\", (1, 0)],\n",
    "                      \"v\" : [\"v\", (1, 0)],\n",
    "                      \"^\" : [\"^\", (-1, 0)]}\n",
    "\n",
    "def valid(d, next_node):\n",
    "    if next_node[0] < 0 or next_node[1] < 0:\n",
    "        return False\n",
    "    if next_node[0] >= dataset.shape[0]:\n",
    "        return False\n",
    "    if next_node[1] >= dataset.shape[1]:\n",
    "        return False\n",
    "    if (d, next_node) in visited:\n",
    "        return False\n",
    "    return True\n",
    "\n",
    "def follow_the_beam(direction, start):\n",
    "    queue = list()\n",
    "    queue.append((direction, start))    \n",
    "    while queue:\n",
    "        dir, cur = queue.pop(0)\n",
    "        visited.add((dir, cur))\n",
    "        move = movement_dict[dataset[cur]][dir]\n",
    "\n",
    "        # \"|\" and \"-\" split the beam:\n",
    "        for i in range(0, len(move), 2):\n",
    "            new_dir = move[i]\n",
    "            new_pos = (cur[0]+move[i+1][0], cur[1]+move[i+1][1])\n",
    "            if valid(new_dir, new_pos):\n",
    "                queue.append((new_dir, new_pos))\n",
    "\n",
    "    return visited\n",
    "\n",
    "visited = set()\n",
    "visited = follow_the_beam(\">\", (0,0))\n",
    "print(\"Solution part 1:\", (len(set([x[1] for x in visited]))))\n",
    "\n",
    "res = []\n",
    "# Rows\n",
    "from tqdm import tqdm\n",
    "for i in tqdm(range(dataset.shape[0])):\n",
    "    visited = set()\n",
    "    visited = follow_the_beam(\">\", (i,0))\n",
    "    res.append(len(set([x[1] for x in visited])))\n",
    "for i in tqdm(range(dataset.shape[0])):\n",
    "    visited = set()\n",
    "    visited = follow_the_beam(\"<\", (i,len(dataset[0])-1))\n",
    "    res.append(len(set([x[1] for x in visited])))\n",
    "# Col:\n",
    "for i in tqdm(range(dataset.shape[1])):\n",
    "    visited = set()\n",
    "    visited = follow_the_beam(\"v\", (0, i))\n",
    "    res.append(len(set([x[1] for x in visited])))\n",
    "for i in tqdm(range(dataset.shape[1])):\n",
    "    visited = set()\n",
    "    visited = follow_the_beam(\"^\", (len(dataset)-1, i))\n",
    "    res.append(len(set([x[1] for x in visited])))\n",
    "print(\"Solution part 2:\", max(res))"
   ]
  }
 ],
 "metadata": {
  "kernelspec": {
   "display_name": "md_production",
   "language": "python",
   "name": "python3"
  },
  "language_info": {
   "codemirror_mode": {
    "name": "ipython",
    "version": 3
   },
   "file_extension": ".py",
   "mimetype": "text/x-python",
   "name": "python",
   "nbconvert_exporter": "python",
   "pygments_lexer": "ipython3",
   "version": "3.12.0"
  }
 },
 "nbformat": 4,
 "nbformat_minor": 2
}
