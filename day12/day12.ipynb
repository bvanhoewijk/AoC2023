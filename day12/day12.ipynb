{
 "cells": [
  {
   "cell_type": "code",
   "execution_count": 49,
   "metadata": {},
   "outputs": [],
   "source": [
    "fh = open(\"big.txt\", 'r')\n",
    "dataset = []\n",
    "for i, line in enumerate(fh):\n",
    "    line = line.strip().split(\" \")\n",
    "    springs = line[0]\n",
    "    repairs = [*line[1].split(\",\")]\n",
    "    dataset.append([springs, list(map(int, repairs))])\n",
    "\n",
    "def printd(dataset):\n",
    "    for row in dataset:\n",
    "        for i, col in enumerate(row):\n",
    "            if i == 0:\n",
    "                print(\"\".join(col), end = \" \")\n",
    "            else:\n",
    "                print(col)"
   ]
  },
  {
   "cell_type": "code",
   "execution_count": 24,
   "metadata": {},
   "outputs": [
    {
     "name": "stdout",
     "output_type": "stream",
     "text": [
      "Solution part1 21\n"
     ]
    }
   ],
   "source": [
    "from itertools import groupby\n",
    "def allcombinations(pattern, valid, all_patterns):\n",
    "    if \"?\" not in pattern:\n",
    "        res = []\n",
    "        for label, group in groupby(pattern):\n",
    "            if label == \"#\":\n",
    "                res.append(len(list(group)))\n",
    "        if res == valid:\n",
    "            all_patterns.append(res)\n",
    "    else:\n",
    "        allcombinations(pattern.replace(\"?\", \"#\", 1), valid, all_patterns)\n",
    "        allcombinations(pattern.replace(\"?\", \".\", 1), valid, all_patterns)\n",
    "\n",
    "\n",
    "solution = 0\n",
    "for i in range(len(dataset)):\n",
    "    p = dataset[i][0]\n",
    "    v = dataset[i][1]\n",
    "    allpatterns = []\n",
    "    allcombinations(p, v, allpatterns)\n",
    "    solution += len(allpatterns)\n",
    "\n",
    "print(\"Solution part1\", solution)\n"
   ]
  },
  {
   "cell_type": "markdown",
   "metadata": {},
   "source": [
    "# Part II"
   ]
  },
  {
   "cell_type": "code",
   "execution_count": 144,
   "metadata": {},
   "outputs": [
    {
     "name": "stdout",
     "output_type": "stream",
     "text": [
      "0\n"
     ]
    }
   ],
   "source": [
    "from itertools import groupby\n",
    "\n",
    "fh = open(\"big.txt\", 'r')\n",
    "dataset = []\n",
    "for i, line in enumerate(fh):\n",
    "    line = line.strip().split(\" \")\n",
    "    springs = line[0]\n",
    "    repairs = [*line[1].split(\",\")]\n",
    "    dataset.append([springs, tuple(map(int, repairs))])\n",
    "\n",
    "def unfold(entry):\n",
    "    entry[0] = \"?\".join([entry[0]] * 5)\n",
    "    entry[1] = entry[1] * 5\n",
    "    return entry\n",
    "\n",
    "def check_valid(pattern, valid):\n",
    "    res = []\n",
    "    for label, group in groupby(pattern):\n",
    "        if label == \"#\":\n",
    "            res.append(len(list(group)))\n",
    "    if res == list(valid):\n",
    "        return 1\n",
    "    return 0            \n",
    "\n",
    "# def check_valid(pattern, valid):\n",
    "#     print(list(map(len, pattern.split(\".\"))), list(valid))\n",
    "#     if list(map(len, pattern.split(\".\"))) == list(valid):\n",
    "#         return 1\n",
    "#     else:\n",
    "#         return 0\n",
    "\n",
    "cache = {}\n",
    "def allcombinations(pattern, valid):\n",
    "    key = (pattern, valid)\n",
    "    if key in cache:\n",
    "        return cache[key]\n",
    "\n",
    "    result = 0\n",
    "    if \"?\" not in pattern:\n",
    "        cache[key] = check_valid(pattern, valid)\n",
    "        return cache[key]\n",
    "    else:\n",
    "        rep1 = pattern.replace(\"?\", \"#\", 1)\n",
    "        res1 = allcombinations(rep1, valid)\n",
    "        cache[(rep1, valid)] = res1\n",
    "\n",
    "        rep2 = pattern.replace(\"?\", \".\", 1)\n",
    "        res2 = allcombinations(rep2, valid)\n",
    "        cache[(rep2, valid)] = res2\n",
    "        result += res1 + res2\n",
    "\n",
    "    cache[key] = result\n",
    "    return result\n",
    "\n",
    "solution = 0\n",
    "for entry in dataset:\n",
    "    solution += allcombinations(entry[0], entry[1])\n",
    "\n",
    "print(solution)"
   ]
  },
  {
   "cell_type": "code",
   "execution_count": 127,
   "metadata": {},
   "outputs": [
    {
     "data": {
      "text/plain": [
       "[['???.###', (1, 1, 3)],\n",
       " ['.??..??...?##.', (1, 1, 3)],\n",
       " ['?#?#?#?#?#?#?#?', (1, 3, 1, 6)],\n",
       " ['????.#...#...', (4, 1, 1)],\n",
       " ['????.######..#####.', (1, 6, 5)],\n",
       " ['?###????????', (3, 2, 1)]]"
      ]
     },
     "execution_count": 127,
     "metadata": {},
     "output_type": "execute_result"
    }
   ],
   "source": [
    "dataset"
   ]
  },
  {
   "cell_type": "code",
   "execution_count": 125,
   "metadata": {},
   "outputs": [
    {
     "data": {
      "text/plain": [
       "[1, 1, 3]"
      ]
     },
     "execution_count": 125,
     "metadata": {},
     "output_type": "execute_result"
    }
   ],
   "source": [
    "list(map(len, \"#.#.###\".split(\".\")))"
   ]
  },
  {
   "cell_type": "code",
   "execution_count": null,
   "metadata": {},
   "outputs": [],
   "source": [
    "\n",
    "\n",
    "def unfold(entry):\n",
    "    entry[0] = \"?\".join([entry[0]] * 5)\n",
    "    entry[1] = entry[1] * 5\n",
    "    return entry\n",
    "\n",
    "\n",
    "\n",
    "def check_valid(pattern, valid):\n",
    "    res = []\n",
    "    for label, group in groupby(pattern):\n",
    "        if label == \"#\":\n",
    "            res.append(len(list(group)))\n",
    "    if res == valid:\n",
    "        return 1\n",
    "    return 0            \n",
    "\n",
    "cache = {}\n",
    "def allcombinations(pattern, valid):\n",
    "    if (pattern, valid) in cache:\n",
    "        return cache[(pattern, valid)]\n",
    "\n",
    "    if \"?\" not in pattern:\n",
    "        return check_valid(pattern, valid)\n",
    "    else:\n",
    "        result = 0\n",
    "        result += allcombinations(pattern.replace(\"?\", \"#\", 1), valid)\n",
    "        result += allcombinations(pattern.replace(\"?\", \".\", 1), valid)\n",
    "\n",
    "    cache[(pattern, cache)] = result\n",
    "    return result\n",
    "\n",
    "solution = 0\n",
    "for i in range(len(dataset)):\n",
    "    p = dataset[i][0]\n",
    "    v = dataset[i][1]\n",
    "    solution += allcombinations(p, v)\n",
    "\n",
    "print(solution)"
   ]
  }
 ],
 "metadata": {
  "kernelspec": {
   "display_name": "md_production",
   "language": "python",
   "name": "python3"
  },
  "language_info": {
   "codemirror_mode": {
    "name": "ipython",
    "version": 3
   },
   "file_extension": ".py",
   "mimetype": "text/x-python",
   "name": "python",
   "nbconvert_exporter": "python",
   "pygments_lexer": "ipython3",
   "version": "3.12.0"
  }
 },
 "nbformat": 4,
 "nbformat_minor": 2
}
