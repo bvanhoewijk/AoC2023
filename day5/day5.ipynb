{
 "cells": [
  {
   "cell_type": "code",
   "execution_count": 12,
   "metadata": {},
   "outputs": [],
   "source": [
    "import enum\n",
    "from pprint import pprint\n",
    "\n",
    "def parse_input(file, category_names):\n",
    "    fh = open(file, 'r')\n",
    "\n",
    "    seeds = []\n",
    "\n",
    "    current_category = [False] * 7\n",
    "    \n",
    "    maps = {}\n",
    "    current_category = None\n",
    "    for i, line in enumerate(fh):\n",
    "        line = line.strip()\n",
    "        if not line:\n",
    "            continue\n",
    "\n",
    "        if i == 0:\n",
    "            seeds = line.split(\": \")[1]\n",
    "            seeds = [int(x) for x in seeds.split(\" \")]\n",
    "            continue\n",
    "\n",
    "        # If string found, update cateogry\n",
    "        if line[0].isalpha():\n",
    "            # Set the current category to True\n",
    "            for i, cat in enumerate(category_names):\n",
    "                if line.startswith(cat):\n",
    "                    current_category = cat\n",
    "                    # init map:\n",
    "                    maps[cat] = []\n",
    "            continue\n",
    "        # Everything else is numbers. So add them to the \n",
    "        # right dictionary\n",
    "        map_locations = [int(x) for x in line.split(\" \")]\n",
    "        maps[current_category].append(map_locations)    \n",
    "    return maps, seeds"
   ]
  },
  {
   "cell_type": "code",
   "execution_count": 5,
   "metadata": {},
   "outputs": [],
   "source": [
    "category_names  = [\"seed-to-soil\", \"soil-to-fertilizer\", \"fertilizer-to-water\",\n",
    "                    \"water-to-light\", \"light-to-temperature\", \"temperature-to-humidity\",\n",
    "                    \"humidity-to-location\"]\n",
    "maps, seeds = parse_input(\"input_big.txt\", category_names)    "
   ]
  },
  {
   "cell_type": "code",
   "execution_count": 6,
   "metadata": {},
   "outputs": [
    {
     "name": "stdout",
     "output_type": "stream",
     "text": [
      "Lowest location: 388071289\n"
     ]
    }
   ],
   "source": [
    "all = []\n",
    "for location in seeds:\n",
    "    for cat in category_names:\n",
    "        found = []\n",
    "        for a in maps[cat]:\n",
    "            list1 = range(a[1], a[1]+a[2])\n",
    "            list2 = range(a[0], a[0]+a[2])\n",
    "            try:\n",
    "                res = list2[list1.index(location)]\n",
    "                found.append(res)\n",
    "            except:\n",
    "                pass\n",
    "        if len(found) > 0:\n",
    "            location = min(found)\n",
    "            \n",
    "        if cat == \"humidity-to-location\":\n",
    "            all.append(location)\n",
    "print(f\"Lowest location: {min(all)}\")"
   ]
  },
  {
   "cell_type": "markdown",
   "metadata": {},
   "source": [
    "# Part II"
   ]
  },
  {
   "cell_type": "code",
   "execution_count": 14,
   "metadata": {},
   "outputs": [],
   "source": [
    "category_names  = [\"seed-to-soil\", \"soil-to-fertilizer\", \"fertilizer-to-water\",\n",
    "                    \"water-to-light\", \"light-to-temperature\", \"temperature-to-humidity\",\n",
    "                    \"humidity-to-location\"]\n",
    "maps, seeds = parse_input(\"input_big.txt\", category_names)    "
   ]
  },
  {
   "cell_type": "markdown",
   "metadata": {},
   "source": [
    "https://stackoverflow.com/questions/58535825/combine-overlapping-ranges-of-numbers"
   ]
  },
  {
   "cell_type": "code",
   "execution_count": 26,
   "metadata": {},
   "outputs": [
    {
     "name": "stdout",
     "output_type": "stream",
     "text": [
      "84206669\n"
     ]
    }
   ],
   "source": [
    "maps, seeds = parse_input(\"input_big.txt\", category_names)\n",
    "\n",
    "seeds_ranges = []\n",
    "for i in range(0, len(seeds), 2):\n",
    "    seeds_ranges.append((seeds[i], seeds[i] + seeds[i+1]))\n",
    "\n",
    "\n",
    "# For each tier:\n",
    "for cat in category_names:\n",
    "    mapping_ranges = maps[cat]  \n",
    "    \n",
    "    # As long as there are seed ranges:\n",
    "    mapped_seed_ranges = []\n",
    "    while seeds_ranges:\n",
    "        seed_start, seed_end = seeds_ranges.pop()\n",
    "        range_mapped = False\n",
    "\n",
    "\n",
    "        for dest, src, size in mapping_ranges:\n",
    "            # split the ranges\n",
    "            overlap_start = max(seed_start, src)\n",
    "            overlap_end = min(seed_end, src+size)\n",
    "\n",
    "            if overlap_start < overlap_end:\n",
    "                mapped_seed_ranges.append((overlap_start - src + dest, overlap_end - src + dest))\n",
    "\n",
    "                if seed_start < overlap_start:\n",
    "                    seeds_ranges.append((seed_start, overlap_start))\n",
    "                if overlap_end < seed_end:\n",
    "                    seeds_ranges.append((overlap_end, seed_end))\n",
    "                range_mapped = True\n",
    "                break\n",
    "        \n",
    "        # IF not in range:\n",
    "        if not range_mapped:\n",
    "            mapped_seed_ranges.append((seed_start, seed_end))\n",
    "\n",
    "    seeds_ranges = mapped_seed_ranges\n",
    "\n",
    "print(min(seeds_ranges)[0])"
   ]
  }
 ],
 "metadata": {
  "kernelspec": {
   "display_name": "md_production",
   "language": "python",
   "name": "python3"
  },
  "language_info": {
   "codemirror_mode": {
    "name": "ipython",
    "version": 3
   },
   "file_extension": ".py",
   "mimetype": "text/x-python",
   "name": "python",
   "nbconvert_exporter": "python",
   "pygments_lexer": "ipython3",
   "version": "3.12.0"
  }
 },
 "nbformat": 4,
 "nbformat_minor": 2
}
